{
 "cells": [
  {
   "cell_type": "markdown",
   "id": "2a314049-6a69-4885-b8c6-5f80882eb3d1",
   "metadata": {},
   "source": [
    "# Install Library"
   ]
  },
  {
   "cell_type": "code",
   "execution_count": 1,
   "id": "6cd5f01e-2895-46c4-9cd0-e8d3af2be10e",
   "metadata": {},
   "outputs": [
    {
     "name": "stdout",
     "output_type": "stream",
     "text": [
      "Requirement already satisfied: openpyxl in c:\\users\\rheys\\miniconda3\\envs\\jcopml\\lib\\site-packages (3.1.5)\n",
      "Requirement already satisfied: et-xmlfile in c:\\users\\rheys\\miniconda3\\envs\\jcopml\\lib\\site-packages (from openpyxl) (2.0.0)\n",
      "Note: you may need to restart the kernel to use updated packages.\n"
     ]
    }
   ],
   "source": [
    "pip install openpyxl"
   ]
  },
  {
   "cell_type": "code",
   "execution_count": 2,
   "id": "429b3a5b-008d-45a6-8c7a-0a3b00399613",
   "metadata": {},
   "outputs": [
    {
     "name": "stdout",
     "output_type": "stream",
     "text": [
      "Requirement already satisfied: Sastrawi in c:\\users\\rheys\\miniconda3\\envs\\jcopml\\lib\\site-packages (1.0.1)\n",
      "Note: you may need to restart the kernel to use updated packages.\n"
     ]
    }
   ],
   "source": [
    "pip install Sastrawi"
   ]
  },
  {
   "cell_type": "code",
   "execution_count": 3,
   "id": "1ef10fde-1655-4055-9f3a-7961454d07ba",
   "metadata": {},
   "outputs": [],
   "source": [
    "import pandas as pd\n",
    "import matplotlib.pyplot as plt\n",
    "import seaborn as sns\n",
    "from collections import Counter\n",
    "from nltk.util import ngrams\n",
    "\n",
    "import re, string, unicodedata\n",
    "import nltk\n",
    "from nltk.tokenize import word_tokenize\n",
    "from Sastrawi.Stemmer.StemmerFactory import StemmerFactory\n",
    "from Sastrawi.StopWordRemover.StopWordRemoverFactory import StopWordRemoverFactory\n",
    "from nltk.corpus import stopwords\n",
    "\n",
    "import numpy as np\n",
    "from sklearn.feature_selection import mutual_info_classif\n",
    "\n",
    "import random\n",
    "random.seed(42)\n",
    "from sklearn.feature_extraction.text import CountVectorizer, TfidfVectorizer\n",
    "from sklearn.preprocessing import LabelEncoder\n",
    "from sklearn.model_selection import train_test_split, GridSearchCV\n",
    "from sklearn.svm import SVC\n",
    "from sklearn.metrics import confusion_matrix, balanced_accuracy_score, accuracy_score, precision_score, recall_score, f1_score"
   ]
  },
  {
   "cell_type": "markdown",
   "id": "4af76cf6-693f-4677-8aca-f49a519e1d62",
   "metadata": {},
   "source": [
    "# Input Data"
   ]
  },
  {
   "cell_type": "code",
   "execution_count": 4,
   "id": "1d6dc1b9-f326-4757-8418-c57b6bb61803",
   "metadata": {},
   "outputs": [],
   "source": [
    "df =  pd.read_csv('Data/data_ulasan_pengguna_aplikasi_Vidio.csv')"
   ]
  },
  {
   "cell_type": "code",
   "execution_count": 5,
   "id": "ec5fea14-81f8-4117-a567-bb9ae92984c1",
   "metadata": {},
   "outputs": [
    {
     "data": {
      "text/plain": [
       "Negatif    3433\n",
       "Positif    1237\n",
       "Name: Sentimen, dtype: int64"
      ]
     },
     "execution_count": 5,
     "metadata": {},
     "output_type": "execute_result"
    }
   ],
   "source": [
    "sentiment_counts = df['Sentimen'].value_counts()\n",
    "sentiment_counts"
   ]
  },
  {
   "cell_type": "markdown",
   "id": "27548a39-5477-40a6-8214-fcb897508423",
   "metadata": {},
   "source": [
    "# Text Preprocessing"
   ]
  },
  {
   "cell_type": "code",
   "execution_count": 6,
   "id": "a3ed8cb7-60f4-48b7-9e4b-5d7a8ce68551",
   "metadata": {},
   "outputs": [],
   "source": [
    "kamus_alay = pd.read_excel('Data/Kamus_alay.xlsx', engine='openpyxl')\n",
    "kamus_alay.columns = ['slang', 'formal']"
   ]
  },
  {
   "cell_type": "code",
   "execution_count": 7,
   "id": "081bfac8-57dd-41c5-b4eb-f62a14c08a4d",
   "metadata": {},
   "outputs": [],
   "source": [
    "alay_to_formal = dict(zip(kamus_alay.iloc[:, 0], kamus_alay.iloc[:, 1]))\n",
    "def fix_alay_sentence(text, alay_dict):\n",
    "    words = text.split()\n",
    "    fixed_words = [alay_dict.get(word, word) for word in words]\n",
    "    fixed_text = ' '.join(fixed_words)\n",
    "    return fixed_text"
   ]
  },
  {
   "cell_type": "code",
   "execution_count": 8,
   "id": "c6baf461-a7a0-4b1f-8674-20e8972c77a9",
   "metadata": {},
   "outputs": [],
   "source": [
    "# Stopwords set\n",
    "more_stopwords = ['ggs', 'ff', 'say', 'sy', 'sya', 'san', 'nya', 'nge', 'an', 'er']\n",
    "stopwords_list = more_stopwords + nltk.corpus.stopwords.words('indonesian') + nltk.corpus.stopwords.words('english') + StopWordRemoverFactory().get_stop_words()\n",
    "stopwords_list += [word.strip().lower() for word in pd.read_csv('https://raw.githubusercontent.com/irfandythalib/python-indonesia-stopwords-remover/refs/heads/main/tala-stopwords-indonesia.txt', header=None)[0]]\n",
    "stopwords_list += [word.strip().lower() for word in pd.read_csv('https://raw.githubusercontent.com/SokKanaTorajd/indonesia-stopwords/refs/heads/main/indonesia-stopwords.txt', header=None)[0]]\n",
    "\n",
    "words_to_exclude = ['oke', 'baik', 'tidak', 'guna', 'seru']\n",
    "\n",
    "stopwords_set = set(stopwords_list) - set(words_to_exclude)"
   ]
  },
  {
   "cell_type": "code",
   "execution_count": 9,
   "id": "11fc1144-f517-4035-83fe-0ef42cf6c9a1",
   "metadata": {},
   "outputs": [],
   "source": [
    "factory = StemmerFactory()\n",
    "stemmer = factory.create_stemmer()"
   ]
  },
  {
   "cell_type": "code",
   "execution_count": 10,
   "id": "27604124-55ed-4843-8f97-24d8032a258c",
   "metadata": {},
   "outputs": [],
   "source": [
    "def preprocess_text(text):\n",
    "    text = text.lower()  # Case folding\n",
    "    text = re.sub(r'[^a-zA-Z\\s]', ' ', text)  # Punctuation removal\n",
    "    text = fix_alay_sentence(text, alay_to_formal)  # Normalization\n",
    "    tokens = nltk.word_tokenize(text)  # Tokenization\n",
    "    tokens = [stemmer.stem(token) for token in tokens]  # Stemming\n",
    "    tokens = [token for token in tokens if token not in stopwords_set]  # Stopword removal\n",
    "    return ' '.join(tokens)\n",
    "\n",
    "df['preprocessed_text'] = df['Ulasan'].apply(preprocess_text)"
   ]
  },
  {
   "cell_type": "code",
   "execution_count": 11,
   "id": "a58e1bf8-86d4-4bd9-a9f9-a0f3007314be",
   "metadata": {},
   "outputs": [],
   "source": [
    "# Replace empty values with NaN\n",
    "df.replace([''], np.nan, inplace=True)\n",
    "\n",
    "# Drop rows with NaN values in the 'stopwords' column\n",
    "df_cleaned = df.dropna(subset=['preprocessed_text'])\n",
    "\n",
    "# Save the cleaned DataFrame to Excel\n",
    "df_cleaned[['Ulasan', 'preprocessed_text', 'Sentimen']].to_excel('Vidio_text_preprocessing.xlsx', index=False)"
   ]
  },
  {
   "cell_type": "code",
   "execution_count": 12,
   "id": "4501ceb3-eb66-4415-985e-59ec3a2ec328",
   "metadata": {},
   "outputs": [],
   "source": [
    "shuffled = df_cleaned.sample(frac=1, random_state=42).reset_index(drop=True)\n",
    "X = shuffled['preprocessed_text']\n",
    "y = shuffled['Sentimen']\n",
    "X_1 = shuffled['Ulasan']\n",
    "y_1 = shuffled['Sentimen']"
   ]
  },
  {
   "cell_type": "code",
   "execution_count": 13,
   "id": "4a0474cd-82bc-4b10-bcc4-a0a70491812e",
   "metadata": {},
   "outputs": [],
   "source": [
    "encoder = LabelEncoder()\n",
    "y = encoder.fit_transform(y)"
   ]
  },
  {
   "cell_type": "code",
   "execution_count": 14,
   "id": "c39a71ee-57fa-4082-99fa-e871a6c164c7",
   "metadata": {},
   "outputs": [],
   "source": [
    "X_train, X_test, y_train, y_test = train_test_split(X, y, random_state=42, test_size=0.2)\n",
    "X_1_train, X_1_test, y_1_train, y_1_test = train_test_split(X_1, y_1, random_state=42, test_size=0.2)"
   ]
  },
  {
   "cell_type": "code",
   "execution_count": 15,
   "id": "d6162845-6c5f-454b-af20-3393fffd1c4a",
   "metadata": {},
   "outputs": [
    {
     "data": {
      "text/plain": [
       "CountVectorizer()"
      ]
     },
     "execution_count": 15,
     "metadata": {},
     "output_type": "execute_result"
    }
   ],
   "source": [
    "# Create a CountVectorizer object\n",
    "count_vect = CountVectorizer()\n",
    "# Fit the CountVectorizer on the training data\n",
    "count_vect.fit(X_train)"
   ]
  },
  {
   "cell_type": "code",
   "execution_count": 16,
   "id": "9c348192-574a-41a1-bcbe-849842924910",
   "metadata": {},
   "outputs": [],
   "source": [
    "# Get all unique words \n",
    "word_list = count_vect.get_feature_names_out()"
   ]
  },
  {
   "cell_type": "code",
   "execution_count": 17,
   "id": "af889293-84f2-49a2-9553-5ceef90f4aba",
   "metadata": {},
   "outputs": [],
   "source": [
    "# Transform training and testing data using CountVectorizer\n",
    "X_train_counts = count_vect.transform(X_train)\n",
    "X_test_counts = count_vect.transform(X_test)"
   ]
  },
  {
   "cell_type": "markdown",
   "id": "ff2005f1-1ff5-48c9-bf59-2b65d7ae0ebf",
   "metadata": {},
   "source": [
    "# CHI-SQUARE"
   ]
  },
  {
   "cell_type": "code",
   "execution_count": 18,
   "id": "ccb6ab42-321f-46d1-ab58-c9725007c0b9",
   "metadata": {},
   "outputs": [],
   "source": [
    "# Create a DataFrame to store the word frequencies for each training review\n",
    "word_freq_df_train = pd.DataFrame(X_train_counts.toarray(), columns=word_list)"
   ]
  },
  {
   "cell_type": "code",
   "execution_count": 19,
   "id": "f4e7b028-d65d-491b-acf3-ee35c2d81960",
   "metadata": {},
   "outputs": [],
   "source": [
    "# Add a column for the original review text from the training data\n",
    "word_freq_df_train['Sentimen'] = y_1_train.values"
   ]
  },
  {
   "cell_type": "code",
   "execution_count": 20,
   "id": "1e9372f4-ff57-4e3d-8ea6-1a079876cc52",
   "metadata": {},
   "outputs": [],
   "source": [
    "def calculate_chi2(word, X_train, y_train, count_vect):\n",
    "    word_index = count_vect.vocabulary_.get(word)\n",
    "    a = np.sum((X_train_counts[y_train == 1][:, word_index] > 0), dtype = np.float64)\n",
    "    b = np.sum((X_train_counts[y_train == 0][:, word_index] > 0), dtype = np.float64)\n",
    "    c = np.sum((X_train_counts[y_train == 1][:, word_index] == 0), dtype = np.float64)\n",
    "    d = np.sum((X_train_counts[y_train == 0][:, word_index] == 0), dtype = np.float64)\n",
    "    n = len(y_train)\n",
    "    chi2 = (n*(a*d - b*c)**2) / ((a+b) * (c+d) * (a+c) * (b+d))\n",
    "    chi2_label = 'Positif'\n",
    "    return chi2_label, a, b, c, d, chi2"
   ]
  },
  {
   "cell_type": "code",
   "execution_count": 21,
   "id": "4b14905f-7048-4404-988f-aae83653d448",
   "metadata": {},
   "outputs": [
    {
     "name": "stderr",
     "output_type": "stream",
     "text": [
      "C:\\Users\\rheys\\AppData\\Local\\Temp\\ipykernel_4180\\2427639161.py:3: SparseEfficiencyWarning: Comparing a sparse matrix with 0 using == is inefficient, try using != instead.\n",
      "  result = calculate_chi2(word, X_train, y_train, count_vect)\n"
     ]
    }
   ],
   "source": [
    "results = []\n",
    "for word in word_list:\n",
    "    result = calculate_chi2(word, X_train, y_train, count_vect)\n",
    "    results.append(result)"
   ]
  },
  {
   "cell_type": "code",
   "execution_count": 22,
   "id": "e8710dd0-99da-492a-87bc-9d660893a5c5",
   "metadata": {},
   "outputs": [],
   "source": [
    "# Create a DataFrame to store the results\n",
    "columns = ['Chi2_label', 'A', 'B', 'C', 'D', 'Chi2']\n",
    "df_chi2_positive = pd.DataFrame(results, columns = columns)\n",
    "df_chi2_positive.insert(0, 'word', word_list)\n",
    "\n",
    "# Sort the DataFrame by Chi2 in descending order\n",
    "df_chi2_positive = df_chi2_positive.sort_values(by='Chi2', ascending=False)"
   ]
  },
  {
   "cell_type": "code",
   "execution_count": 23,
   "id": "169d36b3-7f7a-4986-aa67-26d6ead6dc0a",
   "metadata": {},
   "outputs": [],
   "source": [
    "def calculate_chi2(word, X_train, y_train, count_vect):\n",
    "    word_index = count_vect.vocabulary_.get(word)\n",
    "    a = np.sum((X_train_counts[y_train == 0][:, word_index] > 0), dtype = np.float64)\n",
    "    b = np.sum((X_train_counts[y_train == 1][:, word_index] > 0), dtype = np.float64)\n",
    "    c = np.sum((X_train_counts[y_train == 0][:, word_index] == 0), dtype = np.float64)\n",
    "    d = np.sum((X_train_counts[y_train == 1][:, word_index] == 0), dtype = np.float64)\n",
    "    n = len(y_train)\n",
    "    chi2 = (n*(a*d - b*c)**2) / ((a+b) * (c+d) * (a+c) * (b+d))\n",
    "    chi2_label = 'Negatif'\n",
    "    return chi2_label, a, b, c, d, chi2"
   ]
  },
  {
   "cell_type": "code",
   "execution_count": 24,
   "id": "67c4b036-27c6-4b5d-aaf6-37fe634d8823",
   "metadata": {},
   "outputs": [
    {
     "name": "stderr",
     "output_type": "stream",
     "text": [
      "C:\\Users\\rheys\\AppData\\Local\\Temp\\ipykernel_4180\\2427639161.py:3: SparseEfficiencyWarning: Comparing a sparse matrix with 0 using == is inefficient, try using != instead.\n",
      "  result = calculate_chi2(word, X_train, y_train, count_vect)\n"
     ]
    }
   ],
   "source": [
    "results = []\n",
    "for word in word_list:\n",
    "    result = calculate_chi2(word, X_train, y_train, count_vect)\n",
    "    results.append(result)"
   ]
  },
  {
   "cell_type": "code",
   "execution_count": 25,
   "id": "6a42f869-1685-4e34-bb1f-85f6b270f578",
   "metadata": {},
   "outputs": [],
   "source": [
    "# Create a DataFrame to store the results\n",
    "columns = ['Chi2_label', 'A', 'B', 'C', 'D', 'Chi2']\n",
    "df_chi2_negative = pd.DataFrame(results, columns = columns)\n",
    "df_chi2_negative.insert(0, 'word', word_list)\n",
    "\n",
    "# Sort the DataFrame by Chi2 in descending order\n",
    "df_chi2_negative = df_chi2_negative.sort_values(by='Chi2', ascending=False)"
   ]
  },
  {
   "cell_type": "code",
   "execution_count": 26,
   "id": "0eded62c-7104-4fc6-b06d-83a7ce5beeff",
   "metadata": {},
   "outputs": [],
   "source": [
    "# Create DataFrame Chi2\n",
    "df_chi2 = pd.DataFrame()\n",
    "df_chi2['word'] = df_chi2_positive['word']\n",
    "df_chi2['Chi2_positive'] = df_chi2_positive['Chi2']\n",
    "df_chi2['Chi2_negative'] = df_chi2_negative['Chi2']\n",
    "df_chi2['Chi2'] = df_chi2_positive['Chi2'] + df_chi2_negative['Chi2']"
   ]
  },
  {
   "cell_type": "code",
   "execution_count": 27,
   "id": "6394a9ab-9203-43b1-b2c0-dee53c711fe3",
   "metadata": {},
   "outputs": [],
   "source": [
    "# Create a new DataFrame with the selected features for the train data\n",
    "df_train_bow = pd.DataFrame(X_train_counts.toarray(), columns=word_list)\n",
    "df_train_bow['target'] = y_train"
   ]
  },
  {
   "cell_type": "code",
   "execution_count": 28,
   "id": "ce1f2393-0c95-4087-a801-e46ab3e85a09",
   "metadata": {},
   "outputs": [],
   "source": [
    "# Select the top k features with the highest chi2 scores\n",
    "k = 600\n",
    "top_k_words = df_chi2['word'][:k].tolist()"
   ]
  },
  {
   "cell_type": "code",
   "execution_count": 29,
   "id": "62b8417a-d278-4acd-9b88-32d233a54a7c",
   "metadata": {},
   "outputs": [],
   "source": [
    "# Create a new CountVectorizer with the selected features and fit it on the train data\n",
    "count_vect_selected = CountVectorizer(vocabulary=top_k_words)\n",
    "X_train_selected = count_vect_selected.fit_transform(X_train)\n",
    "\n",
    "# Create a new DataFrame with the selected features for the train data\n",
    "df_train_selected = pd.DataFrame(X_train_selected.toarray(), columns=top_k_words)\n",
    "\n",
    "# Create a new CountVectorizer with the selected features and transform the test data\n",
    "X_test_selected = count_vect_selected.transform(X_test)\n",
    "\n",
    "# Create a new DataFrame with the selected features for the test data\n",
    "df_test_selected = pd.DataFrame(X_test_selected.toarray(), columns=top_k_words)"
   ]
  },
  {
   "cell_type": "markdown",
   "id": "68696e1f-209c-4844-9920-d5d6a4a29d89",
   "metadata": {},
   "source": [
    "## TF-IDF CHI-SQUARE"
   ]
  },
  {
   "cell_type": "code",
   "execution_count": 30,
   "id": "4be17601-6903-493a-ae92-5185def13bf8",
   "metadata": {},
   "outputs": [],
   "source": [
    "# Word Representation\n",
    "# Create a TfidfVectorizer with the new vocabulary and fit it on the train data\n",
    "vectorizer = TfidfVectorizer(vocabulary=top_k_words)\n",
    "X_train_tfidf = vectorizer.fit_transform(X_train)\n",
    "\n",
    "# Transform the test data using the fitted vectorizer\n",
    "X_test_tfidf = vectorizer.transform(X_test)\n",
    "\n",
    "# Create a DataFrame to store the TF-IDF values for the train data\n",
    "train_df_tfidf = pd.DataFrame(X_train_tfidf.toarray(), columns=top_k_words)\n",
    "\n",
    "# Add the target variable to the train DataFrame\n",
    "train_df_tfidf['target'] = y_train\n",
    "\n",
    "# Create a DataFrame to store the TF-IDF values for the best data\n",
    "test_df_tfidf = pd.DataFrame(X_test_tfidf.toarray(), columns=top_k_words)\n",
    "\n",
    "# Add the target variable to the test DataFrame\n",
    "test_df_tfidf['target'] = y_test"
   ]
  },
  {
   "cell_type": "markdown",
   "id": "3f987a4d-99ba-4709-b0cf-12d8f6c53411",
   "metadata": {},
   "source": [
    "## SVM + CHI-SQUARE + TF-IDF"
   ]
  },
  {
   "cell_type": "code",
   "execution_count": 31,
   "id": "eb3b06dc-c0a0-429e-bd93-9b5547a02ac7",
   "metadata": {},
   "outputs": [
    {
     "data": {
      "text/plain": [
       "SVC()"
      ]
     },
     "execution_count": 31,
     "metadata": {},
     "output_type": "execute_result"
    }
   ],
   "source": [
    "# SVM default mode\n",
    "model = SVC()\n",
    "model.fit(X_train_tfidf, y_train)"
   ]
  },
  {
   "cell_type": "code",
   "execution_count": 32,
   "id": "4d471166-e657-4439-a42c-08a8ba663f08",
   "metadata": {},
   "outputs": [
    {
     "data": {
      "text/plain": [
       "0.9363017934446506"
      ]
     },
     "execution_count": 32,
     "metadata": {},
     "output_type": "execute_result"
    }
   ],
   "source": [
    "# Predict the labels on the validation dataset\n",
    "pred = model.predict(X_test_tfidf)\n",
    "\n",
    "# Balanced accuracy score\n",
    "balanced_accuracy_score(y_test, pred)"
   ]
  },
  {
   "cell_type": "markdown",
   "id": "35191e80-bbba-4473-9c7b-3071a961157c",
   "metadata": {},
   "source": [
    "# INFORMATION GAIN"
   ]
  },
  {
   "cell_type": "code",
   "execution_count": 33,
   "id": "05bf1653-7e77-4909-9a7f-883f115dea65",
   "metadata": {},
   "outputs": [],
   "source": [
    "# Calculate Information Gain for Count-Based Features\n",
    "res = dict(zip(word_list, mutual_info_classif(X_train_counts, y_train, discrete_features=True)))"
   ]
  },
  {
   "cell_type": "code",
   "execution_count": 34,
   "id": "a7f0c222-43de-420f-ad6f-6677023a5f73",
   "metadata": {},
   "outputs": [],
   "source": [
    "# Create a DataFrame from the information gain\n",
    "res1 = pd.DataFrame.from_dict(res, orient='index', columns=['IG'])\n",
    "res1 = res1.sort_values(by='IG', ascending=False)"
   ]
  },
  {
   "cell_type": "code",
   "execution_count": 35,
   "id": "5a7f6766-c253-411a-9fd5-ed3273fa61ae",
   "metadata": {},
   "outputs": [],
   "source": [
    "# Select the top z features with the highest information gain scores\n",
    "z = 600\n",
    "top_z_words = res1.head(z).index.tolist()"
   ]
  },
  {
   "cell_type": "code",
   "execution_count": 36,
   "id": "09cb36f9-b675-4fd9-8e6e-4ed2df8687ec",
   "metadata": {},
   "outputs": [],
   "source": [
    "# Create a new CountVectorizer with the selected features and fit it on the train data\n",
    "count_vect_selected_ig = CountVectorizer(vocabulary=top_z_words)\n",
    "X_train_selected_ig = count_vect_selected_ig.fit_transform(X_train)\n",
    "\n",
    "# Create a new DataFrame with the selected features for the train data\n",
    "df_train_selected_ig = pd.DataFrame(X_train_selected_ig.toarray(), columns=top_z_words)\n",
    "\n",
    "# Create a new CountVectorizer with the selected features and transform the test data\n",
    "X_test_selected_ig = count_vect_selected_ig.transform(X_test)\n",
    "\n",
    "# Create a new DataFrame with the selected features for the test data\n",
    "df_test_selected_ig = pd.DataFrame(X_test_selected_ig.toarray(), columns=top_z_words)"
   ]
  },
  {
   "cell_type": "markdown",
   "id": "b65aa48c-216f-480f-8ada-5f5bf9d9503c",
   "metadata": {},
   "source": [
    "## TF-IDF IG"
   ]
  },
  {
   "cell_type": "code",
   "execution_count": 37,
   "id": "919d005e-a662-4a67-ac2a-4dd221b78fbc",
   "metadata": {},
   "outputs": [],
   "source": [
    "# Word Representation\n",
    "# Create a TfidfVectorizer with the new vocabulary and fit it on the train data\n",
    "vect = TfidfVectorizer(vocabulary=top_z_words)\n",
    "X_train_tfidf_ig = vect.fit_transform(X_train)\n",
    "\n",
    "# Transform the test data using the fitted vectorizer\n",
    "X_test_tfidf_ig = vect.transform(X_test)\n",
    "\n",
    "# Create a DataFrame to store the TF-IDF values for the train data\n",
    "train_df_tfidf_ig = pd.DataFrame(X_train_tfidf_ig.toarray(), columns=top_z_words)\n",
    "\n",
    "# Add the target variable to the train DataFrame\n",
    "train_df_tfidf_ig['target'] = y_train\n",
    "\n",
    "# Create a DataFrame to store the TF-IDF values for the test data\n",
    "test_df_tfidf_ig = pd.DataFrame(X_test_tfidf_ig.toarray(), columns=top_z_words)\n",
    "\n",
    "# Add the target variable to the test DataFrame\n",
    "test_df_tfidf_ig['target'] = y_test"
   ]
  },
  {
   "cell_type": "markdown",
   "id": "0d6777c1-0292-47b4-b99f-16e89aab2500",
   "metadata": {},
   "source": [
    "## SVM + IG + TF-IDF"
   ]
  },
  {
   "cell_type": "code",
   "execution_count": 38,
   "id": "5771aaa5-ac6b-4d27-bd46-ddaa149601a7",
   "metadata": {},
   "outputs": [
    {
     "data": {
      "text/plain": [
       "SVC()"
      ]
     },
     "execution_count": 38,
     "metadata": {},
     "output_type": "execute_result"
    }
   ],
   "source": [
    "# SVM default mode\n",
    "model_ig = SVC()\n",
    "model_ig.fit(X_train_tfidf_ig, y_train)"
   ]
  },
  {
   "cell_type": "code",
   "execution_count": 39,
   "id": "99fb0021-f75b-4208-ac46-239a2d6dc4d7",
   "metadata": {},
   "outputs": [
    {
     "data": {
      "text/plain": [
       "0.8858777277144625"
      ]
     },
     "execution_count": 39,
     "metadata": {},
     "output_type": "execute_result"
    }
   ],
   "source": [
    "# Predict the labels on the validation dataset\n",
    "pred_ig = model_ig.predict(X_test_tfidf_ig)\n",
    "\n",
    "# Balanced accuracy\n",
    "balanced_accuracy_score(y_test, pred_ig)"
   ]
  },
  {
   "cell_type": "markdown",
   "id": "f326e5d6-434e-4566-a61d-cae942c79e62",
   "metadata": {},
   "source": [
    "# THE MOST DISCUSSED TOPICS WITH NEGATIVE SENTIMENT"
   ]
  },
  {
   "cell_type": "code",
   "execution_count": 40,
   "id": "4d4b71ea-a36c-4f59-86a1-a8fb682e8b43",
   "metadata": {},
   "outputs": [],
   "source": [
    "label_mapping = dict(zip(encoder.transform(encoder.classes_), encoder.classes_))\n",
    "result_predict = pd.DataFrame(X_1_test)\n",
    "result_predict['actual_label'] = y_1_test\n",
    "result_predict['predict_label'] = pred\n",
    "result_predict['predict_label'] = result_predict['predict_label'].map(label_mapping)"
   ]
  },
  {
   "cell_type": "code",
   "execution_count": 41,
   "id": "cc852254-b601-46fd-8318-acce3c458e0b",
   "metadata": {},
   "outputs": [
    {
     "data": {
      "image/png": "[encoded data removed]",
      "text/plain": [
       "<Figure size 1200x600 with 1 Axes>"
      ]
     },
     "metadata": {},
     "output_type": "display_data"
    }
   ],
   "source": [
    "merged_data = pd.merge(result_predict, df_cleaned[['Ulasan', 'preprocessed_text']], on='Ulasan', how='left')\n",
    "\n",
    "# Gabungkan semua token dari data negatif\n",
    "negative_tokens = ' '.join(merged_data[merged_data['predict_label'] == 'Negatif']['preprocessed_text'].astype(str)).split()\n",
    "\n",
    "# Hitung frekuensi n-gram (2 hingga 8)\n",
    "all_ngrams = [gram for n in range(2, 9) for gram in ngrams(negative_tokens, n)]\n",
    "top_ngrams = Counter(all_ngrams).most_common(10)\n",
    "\n",
    "# Siapkan label dan frekuensi\n",
    "df_topik = pd.DataFrame({\n",
    "    'Topik': ['\\n'.join([' '.join(gram[i:i+3]) for i in range(0, len(gram), 3)]) for gram, _ in top_ngrams],\n",
    "    'Frekuensi': [freq for _, freq in top_ngrams]\n",
    "})\n",
    "\n",
    "# Visualisasi\n",
    "plt.figure(figsize=(12, 6))\n",
    "sns.barplot(x='Frekuensi', y='Topik', data=df_topik, palette='Blues_r')\n",
    "plt.title(\"Bigram yang Paling Sering Muncul pada Ulasan Negatif Aplikasi Vidio\")\n",
    "plt.xlabel(\"Frekuensi\")\n",
    "plt.ylabel(\"Bigran\")\n",
    "plt.tight_layout()\n",
    "plt.show()"
   ]
  },
  {
   "cell_type": "code",
   "execution_count": null,
   "id": "73a31e76-830f-4595-b1aa-c4fea34459a4",
   "metadata": {},
   "outputs": [],
   "source": []
  }
 ],
 "metadata": {
  "kernelspec": {
   "display_name": "Python [conda env:jcopml]",
   "language": "python",
   "name": "conda-env-jcopml-py"
  },
  "language_info": {
   "codemirror_mode": {
    "name": "ipython",
    "version": 3
   },
   "file_extension": ".py",
   "mimetype": "text/x-python",
   "name": "python",
   "nbconvert_exporter": "python",
   "pygments_lexer": "ipython3",
   "version": "3.9.0"
  }
 },
 "nbformat": 4,
 "nbformat_minor": 5
}
